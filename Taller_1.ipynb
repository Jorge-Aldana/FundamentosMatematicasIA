{
  "nbformat": 4,
  "nbformat_minor": 0,
  "metadata": {
    "colab": {
      "provenance": [],
      "include_colab_link": true
    },
    "kernelspec": {
      "name": "python3",
      "display_name": "Python 3"
    },
    "language_info": {
      "name": "python"
    }
  },
  "cells": [
    {
      "cell_type": "markdown",
      "metadata": {
        "id": "view-in-github",
        "colab_type": "text"
      },
      "source": [
        "<a href=\"https://colab.research.google.com/github/Jorge-Aldana/FundamentosMatematicasIA/blob/main/Taller_1.ipynb\" target=\"_parent\"><img src=\"https://colab.research.google.com/assets/colab-badge.svg\" alt=\"Open In Colab\"/></a>"
      ]
    },
    {
      "cell_type": "markdown",
      "metadata": {
        "id": "JtcgGiEP4qBJ"
      },
      "source": [
        "---\n",
        "\n",
        "\n",
        "<h2>Taller Aplicaciones de Álgebra Lineal con Python </h2>\n",
        "\n",
        "\n",
        "---\n",
        "\n",
        "\n",
        "**Fundamentos de Matemáticas para IA**\n",
        "\n",
        "**Especialización en Inteligencia Artificial**\n",
        "\n",
        "**Pontificia Universidad Javeriana**\n",
        "\n",
        "Tiempo estimado: **2** horas"
      ]
    },
    {
      "cell_type": "markdown",
      "metadata": {
        "id": "6UPy_ZuO7I-H"
      },
      "source": [
        "<h2>Tabla de contenidos</h2>\n",
        "<div style=\"margin-top: 20px\">\n",
        "    <ul>\n",
        "        <li>\n",
        "            <a href=\"#tensores\">Tensores</a>\n",
        "        </li>\n",
        "        <li>\n",
        "            <a href=\"#aritmetica\">Aritmética de tensores</a>\n",
        "        </li>\n",
        "        <li>\n",
        "            <a href=\"#inversa\">Inversa de una matriz</a>\n",
        "        </li>\n",
        "        <li>\n",
        "            <a href=\"#sistemas\">Sistemas de ecuaciones</a>\n",
        "        </li>\n",
        "        <li>\n",
        "            <a href=\"#traslaciones\">Traslaciones</a>\n",
        "        </li>\n",
        "        <li>\n",
        "            <a href=\"#valores\">Valores propios</a>\n",
        "        </li>\n",
        "        <li>\n",
        "            <a href=\"#soporte\">Clasificación con máquinas de vectores de soporte</a>\n",
        "        </li>\n",
        "    </ul>\n",
        "\n",
        "</div>\n",
        "\n",
        "<hr>\n",
        "\n"
      ]
    },
    {
      "cell_type": "markdown",
      "metadata": {
        "id": "sFIh99HwBLxu"
      },
      "source": [
        "<h2>Objetivos</h2>\n",
        "\n",
        "Después de completar este taller, será capaz de:\n",
        "*   Utilizar las herramientas en Python para el manejo de Matrices y vectores, tensor y sistemas de ecuaciones.\n",
        "*   Aplicar los algoritmos del algebra lineal para solucionar sistemas de ecuaciones asociados a problemas de IA.\n",
        "\n",
        "\n",
        "\n"
      ]
    },
    {
      "cell_type": "markdown",
      "metadata": {
        "id": "YoS4YyGj7GcP"
      },
      "source": [
        "## Tensores  <a name=\"tensores\"></a>"
      ]
    },
    {
      "cell_type": "markdown",
      "source": [],
      "metadata": {
        "id": "FiiEypGv4_Q_"
      }
    },
    {
      "cell_type": "markdown",
      "metadata": {
        "id": "BpYfUHwiMI2R"
      },
      "source": [
        "Las librerias que vamos a usar:"
      ]
    },
    {
      "cell_type": "code",
      "metadata": {
        "id": "jQ1sYFw0JZb4"
      },
      "source": [
        "import numpy as np\n",
        "import tensorflow as tf\n"
      ],
      "execution_count": null,
      "outputs": []
    },
    {
      "cell_type": "markdown",
      "metadata": {
        "id": "NrStrDfKM4NX"
      },
      "source": [
        "El concepto de tensor es muy general. Así, un escalar estará representado por un tensor con justamente $1$ elemento:"
      ]
    },
    {
      "cell_type": "code",
      "metadata": {
        "colab": {
          "base_uri": "https://localhost:8080/",
          "height": 158
        },
        "id": "ntwsaeeYNENs",
        "outputId": "b51278cc-4bc8-48ae-aca2-96d496277e25"
      },
      "source": [
        "tensor_rango_0 = tensorflow.constant(5)\n",
        "print(tensor_rango_0)"
      ],
      "execution_count": null,
      "outputs": [
        {
          "output_type": "error",
          "ename": "NameError",
          "evalue": "name 'tensorflow' is not defined",
          "traceback": [
            "\u001b[0;31m---------------------------------------------------------------------------\u001b[0m",
            "\u001b[0;31mNameError\u001b[0m                                 Traceback (most recent call last)",
            "\u001b[0;32m<ipython-input-16-c329c2e0de87>\u001b[0m in \u001b[0;36m<cell line: 0>\u001b[0;34m()\u001b[0m\n\u001b[0;32m----> 1\u001b[0;31m \u001b[0mtensor_rango_0\u001b[0m \u001b[0;34m=\u001b[0m \u001b[0mtensorflow\u001b[0m\u001b[0;34m.\u001b[0m\u001b[0mconstant\u001b[0m\u001b[0;34m(\u001b[0m\u001b[0;36m5\u001b[0m\u001b[0;34m)\u001b[0m\u001b[0;34m\u001b[0m\u001b[0;34m\u001b[0m\u001b[0m\n\u001b[0m\u001b[1;32m      2\u001b[0m \u001b[0mprint\u001b[0m\u001b[0;34m(\u001b[0m\u001b[0mtensor_rango_0\u001b[0m\u001b[0;34m)\u001b[0m\u001b[0;34m\u001b[0m\u001b[0;34m\u001b[0m\u001b[0m\n",
            "\u001b[0;31mNameError\u001b[0m: name 'tensorflow' is not defined"
          ]
        }
      ]
    },
    {
      "cell_type": "markdown",
      "metadata": {
        "id": "bANjoxCqJmtI"
      },
      "source": [
        "Consideremos dos matrices $\\mathbf{A} \\in \\mathbb{R}_{n,k}$ y $\\mathbf{B} \\in \\mathbb{R}_{n,k}$,\n",
        "\\begin{equation}\n",
        "\\mathbf{A}=\\begin{bmatrix}a_{11} & a_{12} & \\cdots & a_{1k}\\\\\n",
        "a_{21} & a_{22} & \\cdots & a_{2k}\\\\\n",
        "\\vdots & \\vdots & \\ddots & \\vdots\\\\\n",
        "a_{n1} & a_{n2} & \\cdots & a_{nk}\n",
        "\\end{bmatrix},\\qquad\\mathbf{B}=\\begin{bmatrix}b_{11} & b_{12} & \\cdots & b_{1k}\\\\\n",
        "b_{21} & b_{22} & \\cdots & b_{2k}\\\\\n",
        "\\vdots & \\vdots & \\ddots & \\vdots\\\\\n",
        "b_{n1} & b_{n2} & \\cdots & b_{nk}\n",
        "\\end{bmatrix}.\n",
        "\\end{equation}\n",
        "$\\mathbf{A}$ y $\\mathbf{B}$ tienen $n$ filas y $k$ columnas. Las matrices son tensores con 2 ejes."
      ]
    },
    {
      "cell_type": "markdown",
      "metadata": {
        "id": "Yg1BG58NOGey"
      },
      "source": [
        "Los vectores son tensores con un eje:"
      ]
    },
    {
      "cell_type": "code",
      "metadata": {
        "id": "KQaZ4eYUNKJ2"
      },
      "source": [
        "tensor_rango_1 = tensorflow.constant([2.0, 3.0, 4.0])\n",
        "print(tensor_rango_1)"
      ],
      "execution_count": null,
      "outputs": []
    },
    {
      "cell_type": "markdown",
      "metadata": {
        "id": "IYyUVf67VnYf"
      },
      "source": [
        "**Ejercicio.** Imprimir una matriz $2 \\times 2$ utilizando TensorFlow."
      ]
    },
    {
      "cell_type": "markdown",
      "metadata": {
        "id": "slLwsFnAhCC9"
      },
      "source": [
        "**Ejercicio.** Imprimir cinco vectores unitarios utilizando TensorFlow."
      ]
    },
    {
      "cell_type": "markdown",
      "metadata": {
        "id": "HMnqXKZ-MmCf"
      },
      "source": [
        "Vamos a imprimir un tensor con 3 ejes de 30 entradas."
      ]
    },
    {
      "cell_type": "code",
      "metadata": {
        "colab": {
          "base_uri": "https://localhost:8080/"
        },
        "id": "BmERs4OtTMV5",
        "outputId": "d3bcec24-a5de-4bb7-885a-5f1aace383b2"
      },
      "source": [
        "tensor_rango_3 = numpy.arange(30).reshape(3,2,5)\n",
        "\n",
        "tensor_rango_3 = tensorflow.constant(tensor_rango_3)\n",
        "\n",
        "tensor_rango_3"
      ],
      "execution_count": null,
      "outputs": [
        {
          "output_type": "execute_result",
          "data": {
            "text/plain": [
              "<tf.Tensor: shape=(3, 2, 5), dtype=int64, numpy=\n",
              "array([[[ 0,  1,  2,  3,  4],\n",
              "        [ 5,  6,  7,  8,  9]],\n",
              "\n",
              "       [[10, 11, 12, 13, 14],\n",
              "        [15, 16, 17, 18, 19]],\n",
              "\n",
              "       [[20, 21, 22, 23, 24],\n",
              "        [25, 26, 27, 28, 29]]])>"
            ]
          },
          "metadata": {},
          "execution_count": 16
        }
      ]
    },
    {
      "cell_type": "markdown",
      "metadata": {
        "id": "eldMT7xVbrcH"
      },
      "source": [
        "![aw-1.png](data:image/png;base64,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)"
      ]
    },
    {
      "cell_type": "markdown",
      "metadata": {
        "id": "zEtOdeHtWhK2"
      },
      "source": [
        "## Aritmética de tensores  <a name=\"aritmetica\"></a>"
      ]
    },
    {
      "cell_type": "markdown",
      "metadata": {
        "id": "jtwgUS-zX94r"
      },
      "source": [
        "Calculemos el producto matricial\n",
        "$$\\mathbf{A}\\mathbf{B},\\qquad\n",
        "\\mathbf{A} = \\begin{bmatrix}1 & 4 & 7\\\\\n",
        "2 & 5 & 8\n",
        "\\end{bmatrix},\\quad \\mathbf{B} = \\begin{bmatrix}1 & 4\\\\\n",
        "2 & 5\\\\\n",
        "3 & 6\n",
        "\\end{bmatrix},$$\n",
        "utilizando la librería Numpy."
      ]
    },
    {
      "cell_type": "code",
      "metadata": {
        "colab": {
          "base_uri": "https://localhost:8080/"
        },
        "id": "fUZUS60rQeHP",
        "outputId": "1030bde6-a836-43e4-c6a4-67a896979569"
      },
      "source": [
        "m1 = numpy.array([[1,4,7],[2,5,8]])\n",
        "m2 = numpy.array([[1,4],[2,5],[3,6]])\n",
        "m3 = numpy.dot(m1,m2)\n",
        "print(m3)"
      ],
      "execution_count": null,
      "outputs": [
        {
          "output_type": "stream",
          "name": "stdout",
          "text": [
            "[[30 66]\n",
            " [36 81]]\n"
          ]
        }
      ]
    },
    {
      "cell_type": "markdown",
      "metadata": {
        "id": "K4PQUurRVwjQ"
      },
      "source": [
        "¿Qué sucede si hacemos el producto $\\mathbf{B}\\mathbf{A}$?"
      ]
    },
    {
      "cell_type": "code",
      "metadata": {
        "colab": {
          "base_uri": "https://localhost:8080/"
        },
        "id": "jyl3kUByV5Ah",
        "outputId": "09a03a07-f9f1-448d-c27a-f2ee1bf2090d"
      },
      "source": [
        "m4 = numpy.dot(m2,m1)\n",
        "print(m4)"
      ],
      "execution_count": null,
      "outputs": [
        {
          "output_type": "stream",
          "text": [
            "[[ 9 24 39]\n",
            " [12 33 54]\n",
            " [15 42 69]]\n"
          ],
          "name": "stdout"
        }
      ]
    },
    {
      "cell_type": "markdown",
      "metadata": {
        "id": "8N4oqvlhWMi-"
      },
      "source": [
        "Nótese que $\\mathbf{A}\\mathbf{B} \\neq \\mathbf{B}\\mathbf{A}$."
      ]
    },
    {
      "cell_type": "markdown",
      "metadata": {
        "id": "gZlLaEmFg8Tp"
      },
      "source": [
        "**Ejercicio.** Multiplicar las siguientes matrices:\n",
        "Consideremos un problema de rocío con pesticidas de agronomía. Ubiquemos la cantidad de pesticida en miligramos como $a_{ij}$ en una matriz, donde $i$ es el número del tipo de pesticida y $j$ la planta a que pertence. Digamos $$\\mathbf{A}=\\begin{bmatrix}1 & 3 & 4 & 6\\\\ 2 & 2 & 5 & 5\\\\ 3 & 1 & 6 & 4 \\end{bmatrix}.$$ Aquí, por ejemplo, la entrada $a_{22} = 2$ (fila 2, columna 2) dice que hay dos miligramos de pesticida del tipo 2 en la planta 2.\n",
        "\n",
        "Por otro lado, consideremos la matriz $\\mathbf{B}$ cuyas entradas $b_{ij}$ son la cantidad de plantas de la planta número $i$ y $j$ el número de clase del herbívoro. $$\\mathbf{B}=\\begin{bmatrix}7 & 9 & 10\\\\ 8 & 8 & 11\\\\ 9 & 7 & 12 \\end{bmatrix}.$$ Aquí la entrada $b_{12} = 9$ quiere decir según la fila el número de la planta, en este caso 1, y según la columna la clase de herbívoro, en este caso clase 2.\n",
        "\n",
        "Para hallar la cantidad de pesticida del tipo $i$ que ha absorbido el animal de clase $j$, hacer el producto de las matrices $\\mathbf{A}$ y $\\mathbf{B}$."
      ]
    },
    {
      "cell_type": "markdown",
      "metadata": {
        "id": "vF5gFNbAYnn3"
      },
      "source": [
        "Por su parte, el producto de Hadamard se hace con matrices de las mismas dimensiones. Digamos $$\\begin{bmatrix}1 & 4 & 7\\\\ 2 & 5 & 8 \\end{bmatrix}*\\begin{bmatrix}2 & 8 & 14\\\\ 4 & 10 & 16 \\end{bmatrix}.$$ Este se calcula de la siguiente manera:"
      ]
    },
    {
      "cell_type": "code",
      "metadata": {
        "colab": {
          "base_uri": "https://localhost:8080/"
        },
        "id": "Ar5-axy_W04r",
        "outputId": "ce0a3cbd-394e-4818-bf95-18d82997a3ec"
      },
      "source": [
        "m1 = numpy.array([[1,4,7],[2,5,8]])\n",
        "m3 = numpy.array([[2,8,14],[4,10,16]])\n",
        "m4 = m1*m3\n",
        "print(m4)"
      ],
      "execution_count": null,
      "outputs": [
        {
          "output_type": "stream",
          "name": "stdout",
          "text": [
            "[[  2  32  98]\n",
            " [  8  50 128]]\n"
          ]
        }
      ]
    },
    {
      "cell_type": "markdown",
      "metadata": {
        "id": "fotyFG3Xa_X3"
      },
      "source": [
        "**Ejercicio.** Calcular el producto de Hadamard para\n",
        "Una empresa tiene una matriz $2 \\times 2$ donde reune los salarios de cuatro trabajadores. La fila indica el área en que se encuentran y la columna la especialidad. Por otro lado, otra matriz $2 \\times 2$ reune los porcentajes de incremento de los salarios para el año siguiente. Con el producto de Hadamard, hallar los respectivos incrementos.\n",
        "\n",
        "Salarios: 100 especialidad clínica área atención al cliente, 200 especialidad ocupacional área atención al cliente, 300 especialidad clínica área primeros auxilios, 400 especialidad atención al cliente área primeros auxilios.\n",
        "\n",
        "Porcentajes: 0.2, 0.3, 0.2, 0.3."
      ]
    },
    {
      "cell_type": "markdown",
      "metadata": {
        "id": "SEHVUeKxUWHV"
      },
      "source": [
        "## Inversa de una matriz  <a name=\"inversa\"></a>"
      ]
    },
    {
      "cell_type": "markdown",
      "metadata": {
        "id": "fmNgufgKUZsS"
      },
      "source": [
        "El sistema de ecuaciones lineales $$\\left\\{ \\begin{array}{c} a_{1,1}x_{1}+a_{1,2}x_{2}+\\cdots+a_{1,n}x_{n}=b_{1}\\\\ a_{2,1}x_{1}+a_{2,2}x_{2}+\\cdots+a_{2,n}x_{n}=b_{2}\\\\ \\vdots\\\\ a_{m,1}x_{1}+a_{m,2}x_{2}+\\cdots+a_{m,n}x_{n}=b_{m} \\end{array}\\right.$$\n",
        "se puede escribir con\n",
        "$$\\mathbf{A}=\\begin{bmatrix}a_{1,1} & a_{1,2} & \\cdots & a_{1,n}\\\\ a_{2,1} & a_{2,2} & \\cdots & a_{2,n}\\\\ \\cdots & \\cdots & \\cdots & \\cdots\\\\ a_{m,1} & a_{m,2} & \\cdots & a_{m,n} \\end{bmatrix},\\quad\\mathbf{x}=\\begin{bmatrix}x_{1}\\\\ x_{2}\\\\ \\vdots\\\\ x_{n} \\end{bmatrix},\\quad\\mathbf{b}=\\begin{bmatrix}b_{1}\\\\ b_{2}\\\\ \\vdots\\\\ b_{m} \\end{bmatrix}.$$ Su solución está dada por $$\\mathbf{x} = \\mathbf{A}^{-1}\\mathbf{b}.$$ De aquí la importancia de la inversa de una matriz.\n",
        "\n",
        "**Observación.** Recuérdese que no todas las matrices son invertibles."
      ]
    },
    {
      "cell_type": "markdown",
      "metadata": {
        "id": "GN2MupJCUd-g"
      },
      "source": [
        "Ahora calculemos la matriz inversa de $$\\mathbf{A} = \\begin{bmatrix}6 & 17\\\\\n",
        "332 & 4\n",
        "\\end{bmatrix}.$$"
      ]
    },
    {
      "cell_type": "code",
      "metadata": {
        "id": "5CT2mBedeL1_",
        "colab": {
          "base_uri": "https://localhost:8080/"
        },
        "outputId": "092c8f07-f8e8-48ff-ae2e-d8ede295f55f"
      },
      "source": [
        "x = numpy.array([[6,17],[332,4]])\n",
        "y = numpy.linalg.inv(x)\n",
        "y"
      ],
      "execution_count": null,
      "outputs": [
        {
          "output_type": "execute_result",
          "data": {
            "text/plain": [
              "array([[-0.00071174,  0.00302491],\n",
              "       [ 0.05907473, -0.00106762]])"
            ]
          },
          "metadata": {},
          "execution_count": 19
        }
      ]
    },
    {
      "cell_type": "markdown",
      "metadata": {
        "id": "fTpsgg-WUhqZ"
      },
      "source": [
        "La matriz que se obtuvo es $$\\mathbf{A}^{-1} \\approx \\begin{bmatrix}-0.00071174 & 0.00302491\\\\\n",
        "0.05907473 & -0.00106762\n",
        "\\end{bmatrix}.$$\n",
        "Ahora hacemos el producto $\\mathbf{A}\\mathbf{A}^{-1}$."
      ]
    },
    {
      "cell_type": "code",
      "metadata": {
        "colab": {
          "base_uri": "https://localhost:8080/"
        },
        "id": "Fc5PK66PUfZe",
        "outputId": "acca7a37-f3a6-4586-fab5-34ab95af7a4e"
      },
      "source": [
        "numpy.dot(x,y)"
      ],
      "execution_count": null,
      "outputs": [
        {
          "output_type": "execute_result",
          "data": {
            "text/plain": [
              "array([[ 1.00000000e+00, -3.03576608e-18],\n",
              "       [ 0.00000000e+00,  1.00000000e+00]])"
            ]
          },
          "metadata": {},
          "execution_count": 20
        }
      ]
    },
    {
      "cell_type": "markdown",
      "metadata": {
        "id": "0qAblReRUmDT"
      },
      "source": [
        "El producto nos da una aproximación a la matriz identidad. No es exacto, porque se trata de un cálculo computacional aproximado."
      ]
    },
    {
      "cell_type": "markdown",
      "metadata": {
        "id": "9o8tfHJNUn-n"
      },
      "source": [
        "**Ejercicio.** Hallar la inversa de $$\\mathbf{M} = \\begin{bmatrix}7 & 17\\\\\n",
        "37 & 47\n",
        "\\end{bmatrix}.$$ Calcular el producto $\\mathbf{M}\\mathbf{M}^{-1}$."
      ]
    },
    {
      "cell_type": "markdown",
      "metadata": {
        "id": "N9SgZKN8cszy"
      },
      "source": [
        "**Ejercicio.** Considere la matriz $$a_{ij}=\\begin{cases} 2i, & \\text{cuando $j=1$ y $i=1,2,\\dots,80,$}\\\\ 0.5i, & \\text{cuando $\\begin{cases} j=i+2\\wedge i=1,2,\\dots,78,\\\\ j=i-2\\wedge i=3,4,\\dots,80, \\end{cases}$}\\\\ 0.25i, & \\text{cuando $\\begin{cases} j=i+4\\wedge i=1,2,\\dots,76,\\\\ j=i-4\\wedge i=5,6,\\dots,80, \\end{cases}$}\\\\ 0, & \\text{en cualquier otro caso.} \\end{cases}.$$ Aquí $\\wedge$ es el símbolo para la conjunción y.\n",
        "\n",
        "Hallar la matriz inversa de $\\mathbf{A}$."
      ]
    },
    {
      "cell_type": "markdown",
      "metadata": {
        "id": "WBv-TlhrhYvw"
      },
      "source": [
        "## Sistemas de ecuaciones <a name=\"sistemas\"></a>"
      ]
    },
    {
      "cell_type": "markdown",
      "metadata": {
        "id": "HXU-q02KiBCD"
      },
      "source": [
        "**Ejercicio.** Resolver el sistema $$\\begin{cases} 2x_{1}+3x_{2}, & =0,\\\\ 6x_{1}-5x_{2}+7x_{3}, & =5,\\\\ x_{2}+x_{3}, & =10. \\end{cases}$$\n",
        "\n",
        "¿Recomendaría utilizar el método de Gauss-Jordan o la inversa de una matriz?."
      ]
    },
    {
      "cell_type": "markdown",
      "metadata": {
        "id": "5h31RHVI1XbZ"
      },
      "source": [
        "**Ejercicio.** Completar el procedimiento \\begin{align*} T_{1} & =\\frac{60+100+T_{2}+T_{3}}{4} & & \\Rightarrow\\quad 4T_{1}-T_{2}-T_{3}=160\\\\ T_{2} & =\\frac{T_{1}+100+40+T_{4}}{4} & & \\Rightarrow\\\\ T_{3} & =\\frac{60+T_{1}+T_{4}+0}{4} & & \\Rightarrow\\\\ T_{4} & =\\frac{T_{3}+T_{2}+40+0}{4} & & \\Rightarrow \\end{align*} Resolver el sistema de ecuaciones lineales resultante que envuelve temperaturas en una placa.\n",
        "\n",
        "![Captura-de-pantalla-_2937_.png](data:image/png;base64,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)"
      ]
    },
    {
      "cell_type": "markdown",
      "metadata": {
        "id": "JvdTJT9unyvv"
      },
      "source": [
        "## Translaciones <a name=\"traslaciones\"></a>"
      ]
    },
    {
      "cell_type": "markdown",
      "metadata": {
        "id": "h-CH_Mtyhv8r"
      },
      "source": [
        "Consideremos la siguiente figura:"
      ]
    },
    {
      "cell_type": "code",
      "metadata": {
        "colab": {
          "base_uri": "https://localhost:8080/",
          "height": 211
        },
        "id": "qCg2g4W5nA0K",
        "outputId": "403be765-a40a-4a91-c2db-61b712ffa040"
      },
      "source": [
        "import matplotlib.pyplot as plt\n",
        "\n",
        "aux = numpy.ones((100, 100), dtype=int)\n",
        "src = numpy.vstack([numpy.c_[aux, 2*aux], numpy.c_[3*aux, 4*aux]])\n",
        "plt.imshow(src)\n",
        "plt.show()"
      ],
      "execution_count": null,
      "outputs": [
        {
          "output_type": "error",
          "ename": "NameError",
          "evalue": "name 'numpy' is not defined",
          "traceback": [
            "\u001b[0;31m---------------------------------------------------------------------------\u001b[0m",
            "\u001b[0;31mNameError\u001b[0m                                 Traceback (most recent call last)",
            "\u001b[0;32m<ipython-input-6-9e0187a917da>\u001b[0m in \u001b[0;36m<cell line: 0>\u001b[0;34m()\u001b[0m\n\u001b[1;32m      1\u001b[0m \u001b[0;32mimport\u001b[0m \u001b[0mmatplotlib\u001b[0m\u001b[0;34m.\u001b[0m\u001b[0mpyplot\u001b[0m \u001b[0;32mas\u001b[0m \u001b[0mplt\u001b[0m\u001b[0;34m\u001b[0m\u001b[0;34m\u001b[0m\u001b[0m\n\u001b[1;32m      2\u001b[0m \u001b[0;34m\u001b[0m\u001b[0m\n\u001b[0;32m----> 3\u001b[0;31m \u001b[0maux\u001b[0m \u001b[0;34m=\u001b[0m \u001b[0mnumpy\u001b[0m\u001b[0;34m.\u001b[0m\u001b[0mones\u001b[0m\u001b[0;34m(\u001b[0m\u001b[0;34m(\u001b[0m\u001b[0;36m100\u001b[0m\u001b[0;34m,\u001b[0m \u001b[0;36m100\u001b[0m\u001b[0;34m)\u001b[0m\u001b[0;34m,\u001b[0m \u001b[0mdtype\u001b[0m\u001b[0;34m=\u001b[0m\u001b[0mint\u001b[0m\u001b[0;34m)\u001b[0m\u001b[0;34m\u001b[0m\u001b[0;34m\u001b[0m\u001b[0m\n\u001b[0m\u001b[1;32m      4\u001b[0m \u001b[0msrc\u001b[0m \u001b[0;34m=\u001b[0m \u001b[0mnumpy\u001b[0m\u001b[0;34m.\u001b[0m\u001b[0mvstack\u001b[0m\u001b[0;34m(\u001b[0m\u001b[0;34m[\u001b[0m\u001b[0mnumpy\u001b[0m\u001b[0;34m.\u001b[0m\u001b[0mc_\u001b[0m\u001b[0;34m[\u001b[0m\u001b[0maux\u001b[0m\u001b[0;34m,\u001b[0m \u001b[0;36m2\u001b[0m\u001b[0;34m*\u001b[0m\u001b[0maux\u001b[0m\u001b[0;34m]\u001b[0m\u001b[0;34m,\u001b[0m \u001b[0mnumpy\u001b[0m\u001b[0;34m.\u001b[0m\u001b[0mc_\u001b[0m\u001b[0;34m[\u001b[0m\u001b[0;36m3\u001b[0m\u001b[0;34m*\u001b[0m\u001b[0maux\u001b[0m\u001b[0;34m,\u001b[0m \u001b[0;36m4\u001b[0m\u001b[0;34m*\u001b[0m\u001b[0maux\u001b[0m\u001b[0;34m]\u001b[0m\u001b[0;34m]\u001b[0m\u001b[0;34m)\u001b[0m\u001b[0;34m\u001b[0m\u001b[0;34m\u001b[0m\u001b[0m\n\u001b[1;32m      5\u001b[0m \u001b[0mplt\u001b[0m\u001b[0;34m.\u001b[0m\u001b[0mimshow\u001b[0m\u001b[0;34m(\u001b[0m\u001b[0msrc\u001b[0m\u001b[0;34m)\u001b[0m\u001b[0;34m\u001b[0m\u001b[0;34m\u001b[0m\u001b[0m\n",
            "\u001b[0;31mNameError\u001b[0m: name 'numpy' is not defined"
          ]
        }
      ]
    },
    {
      "cell_type": "markdown",
      "metadata": {
        "id": "TKqrR3VFnB04"
      },
      "source": [
        "Ahora la queremos rotar 45 grados con la transformación lineal $$\\begin{bmatrix}\\cos2\\alpha & \\sin2\\alpha\\\\ \\sin2\\alpha & -\\cos2\\alpha \\end{bmatrix}.$$"
      ]
    },
    {
      "cell_type": "code",
      "metadata": {
        "colab": {
          "base_uri": "https://localhost:8080/",
          "height": 211
        },
        "id": "xJUrE_34l3mu",
        "outputId": "96a95f61-1969-413f-b2b1-89d11dc65b51"
      },
      "source": [
        "import numpy as np\n",
        "import matplotlib.pyplot as plt\n",
        "def linear_transformation(src, a):\n",
        "    M, N = src.shape\n",
        "    points = np.mgrid[0:N, 0:M].reshape((2, M*N))\n",
        "    new_points = np.linalg.inv(a).dot(points).round().astype(int)\n",
        "    x, y = new_points.reshape((2, M, N), order='F')\n",
        "    indices = x + N*y\n",
        "    return np.take(src, indices, mode='wrap')\n",
        "\n",
        "alpha = np.pi/4\n",
        "a = np.array([[numpy.cos(2*alpha), numpy.sin(2*alpha)],\n",
        "              [numpy.sin(2*alpha), -numpy.cos(2*alpha)]])\n",
        "dst = linear_transformation(src, a)\n",
        "plt.imshow(dst)\n",
        "plt.show()"
      ],
      "execution_count": null,
      "outputs": [
        {
          "output_type": "error",
          "ename": "NameError",
          "evalue": "name 'numpy' is not defined",
          "traceback": [
            "\u001b[0;31m---------------------------------------------------------------------------\u001b[0m",
            "\u001b[0;31mNameError\u001b[0m                                 Traceback (most recent call last)",
            "\u001b[0;32m<ipython-input-3-a67f442ce5a6>\u001b[0m in \u001b[0;36m<cell line: 0>\u001b[0;34m()\u001b[0m\n\u001b[1;32m     10\u001b[0m \u001b[0;34m\u001b[0m\u001b[0m\n\u001b[1;32m     11\u001b[0m \u001b[0malpha\u001b[0m \u001b[0;34m=\u001b[0m \u001b[0mnp\u001b[0m\u001b[0;34m.\u001b[0m\u001b[0mpi\u001b[0m\u001b[0;34m/\u001b[0m\u001b[0;36m4\u001b[0m\u001b[0;34m\u001b[0m\u001b[0;34m\u001b[0m\u001b[0m\n\u001b[0;32m---> 12\u001b[0;31m a = np.array([[numpy.cos(2*alpha), numpy.sin(2*alpha)],\n\u001b[0m\u001b[1;32m     13\u001b[0m               [numpy.sin(2*alpha), -numpy.cos(2*alpha)]])\n\u001b[1;32m     14\u001b[0m \u001b[0mdst\u001b[0m \u001b[0;34m=\u001b[0m \u001b[0mlinear_transformation\u001b[0m\u001b[0;34m(\u001b[0m\u001b[0msrc\u001b[0m\u001b[0;34m,\u001b[0m \u001b[0ma\u001b[0m\u001b[0;34m)\u001b[0m\u001b[0;34m\u001b[0m\u001b[0;34m\u001b[0m\u001b[0m\n",
            "\u001b[0;31mNameError\u001b[0m: name 'numpy' is not defined"
          ]
        }
      ]
    },
    {
      "cell_type": "markdown",
      "metadata": {
        "id": "DjgiJbqNnZyA"
      },
      "source": [
        "**Ejercicio.** Hacer lo mismo con la transformación $$\\begin{bmatrix}\\cos\\alpha & \\sin\\alpha\\\\ \\sin\\alpha & -\\cos\\alpha \\end{bmatrix}.$$ ¿Cuál resultado se obtiene?"
      ]
    },
    {
      "cell_type": "markdown",
      "metadata": {
        "id": "nWdIfDH3h1Sd"
      },
      "source": [
        "## Valores propios <a name=\"valores\"></a>"
      ]
    },
    {
      "cell_type": "markdown",
      "metadata": {
        "id": "HJeVdesFjBcy"
      },
      "source": [
        "Los valores propios sirven para diagonalizar una matriz, es decir, transformar una matriz en otra que tenga ceros fuera de la diagonal. Por ejemplo:"
      ]
    },
    {
      "cell_type": "code",
      "metadata": {
        "id": "2FH0kreJjAdr",
        "colab": {
          "base_uri": "https://localhost:8080/",
          "height": 141
        },
        "outputId": "3b5de53e-e628-435e-f6a4-063ec7becc70"
      },
      "source": [
        "alpha = numpy.array([[1,4,7],[2,5,8]]) # matriz alpha"
      ],
      "execution_count": null,
      "outputs": [
        {
          "output_type": "error",
          "ename": "NameError",
          "evalue": "name 'numpy' is not defined",
          "traceback": [
            "\u001b[0;31m---------------------------------------------------------------------------\u001b[0m",
            "\u001b[0;31mNameError\u001b[0m                                 Traceback (most recent call last)",
            "\u001b[0;32m<ipython-input-4-f189c7df19e7>\u001b[0m in \u001b[0;36m<cell line: 0>\u001b[0;34m()\u001b[0m\n\u001b[0;32m----> 1\u001b[0;31m \u001b[0malpha\u001b[0m \u001b[0;34m=\u001b[0m \u001b[0mnumpy\u001b[0m\u001b[0;34m.\u001b[0m\u001b[0marray\u001b[0m\u001b[0;34m(\u001b[0m\u001b[0;34m[\u001b[0m\u001b[0;34m[\u001b[0m\u001b[0;36m1\u001b[0m\u001b[0;34m,\u001b[0m\u001b[0;36m4\u001b[0m\u001b[0;34m,\u001b[0m\u001b[0;36m7\u001b[0m\u001b[0;34m]\u001b[0m\u001b[0;34m,\u001b[0m\u001b[0;34m[\u001b[0m\u001b[0;36m2\u001b[0m\u001b[0;34m,\u001b[0m\u001b[0;36m5\u001b[0m\u001b[0;34m,\u001b[0m\u001b[0;36m8\u001b[0m\u001b[0;34m]\u001b[0m\u001b[0;34m]\u001b[0m\u001b[0;34m)\u001b[0m \u001b[0;31m# matriz alpha\u001b[0m\u001b[0;34m\u001b[0m\u001b[0;34m\u001b[0m\u001b[0m\n\u001b[0m",
            "\u001b[0;31mNameError\u001b[0m: name 'numpy' is not defined"
          ]
        }
      ]
    },
    {
      "cell_type": "code",
      "metadata": {
        "colab": {
          "base_uri": "https://localhost:8080/"
        },
        "id": "yvlf9T1Vj46F",
        "outputId": "9555cd3f-dd60-4d77-af43-4f1e7fe1b4f0"
      },
      "source": [
        "numpy.diag(numpy.diag(alpha)) # matriz diagonal, usando numpy.diag()"
      ],
      "execution_count": null,
      "outputs": [
        {
          "output_type": "execute_result",
          "data": {
            "text/plain": [
              "array([[1, 0],\n",
              "       [0, 5]])"
            ]
          },
          "metadata": {
            "tags": []
          },
          "execution_count": 8
        }
      ]
    },
    {
      "cell_type": "markdown",
      "metadata": {
        "id": "Ern0-KZ1kupo"
      },
      "source": [
        "Diagonalizar una matriz permite que los cálculos que debe realizar el computador en las operaciones disminuyan."
      ]
    },
    {
      "cell_type": "markdown",
      "metadata": {
        "id": "43FY_J5lk3JJ"
      },
      "source": [
        "**Ejercicio.** Colocando %%time como primera línea de código de la celda, realizar el producto $\\mathbf{C}^{10}$ para alguna matriz $10 \\times 10$. En otra celda de código hacer el mismo ejercicio pero con la matriz diagonal. Comparar los tiempos de cada celda de código, ¿cuál método es más rápido?"
      ]
    },
    {
      "cell_type": "markdown",
      "metadata": {
        "id": "t8BnI1QgUrTg"
      },
      "source": [
        "## Clasificación con máquinas de vectores de soporte <a name=\"soporte\"></a>"
      ]
    },
    {
      "cell_type": "markdown",
      "metadata": {
        "id": "KUPanBC3hhTJ"
      },
      "source": [
        "Consideremos la función $$f: \\mathbb{R}^n \\rightarrow \\mathbb{R}$$ dada por $$\\mathbf{x} \\mapsto \\mathbf{w}\\boldsymbol{\\cdot}\\mathbf{x} + b,$$ donde $\\mathbf{w} \\in \\mathbb{R}^n$ y $b \\in \\mathbb{R}$ son parámetros (valores que asignamos arbitrariamente y que quedan fijos). El plano que hace la clasificación binaria es $$\\{\\mathbf{x} \\in \\mathbb{R}^n \\mid f(\\mathbf{x}) = 0\\}.$$ Esto es, los puntos en los cuales la función se anula. Así, la clasificación viene determinada por $$g(\\mathbf{x}_{k})=\\begin{cases} 1 & \\text{si $\\mathbf{w}\\boldsymbol{\\cdot}\\mathbf{x}_{k}+b\\geq0$},\\\\ 0 & \\text{si $\\mathbf{w}\\boldsymbol{\\cdot}\\mathbf{x}_{k}+b<0$}. \\end{cases}$$"
      ]
    },
    {
      "cell_type": "markdown",
      "metadata": {
        "id": "YspmpHP4Utfw"
      },
      "source": [
        "Importamos nuevas librerías, sobre todo para las gráficas"
      ]
    },
    {
      "cell_type": "code",
      "metadata": {
        "id": "RMCtQV0IUjlr"
      },
      "source": [
        "import matplotlib.pyplot as plt\n",
        "from scipy import stats\n",
        "import seaborn as sns; sns.set()"
      ],
      "execution_count": null,
      "outputs": []
    },
    {
      "cell_type": "markdown",
      "metadata": {
        "id": "9wLDsQOWUvK4"
      },
      "source": [
        "Vamos a usar un conjunto de datos de la nube"
      ]
    },
    {
      "cell_type": "code",
      "metadata": {
        "colab": {
          "base_uri": "https://localhost:8080/",
          "height": 366
        },
        "id": "qbCJYL48UwR8",
        "outputId": "6789df69-eec2-4886-fc8e-1aa3f06447b5"
      },
      "source": [
        "\n",
        "from sklearn.datasets.samples_generator import make_blobs\n",
        "X, y = make_blobs(n_samples=20, centers=2,\n",
        "                  random_state=0, cluster_std=0.60)\n",
        "plt.scatter(X[:, 0], X[:, 1], c=y, s=20, cmap='autumn');"
      ],
      "execution_count": null,
      "outputs": [
        {
          "output_type": "error",
          "ename": "ModuleNotFoundError",
          "evalue": "No module named 'sklearn.datasets.samples_generator'",
          "traceback": [
            "\u001b[0;31m---------------------------------------------------------------------------\u001b[0m",
            "\u001b[0;31mModuleNotFoundError\u001b[0m                       Traceback (most recent call last)",
            "\u001b[0;32m<ipython-input-1-e2a792b9f2a7>\u001b[0m in \u001b[0;36m<cell line: 1>\u001b[0;34m()\u001b[0m\n\u001b[0;32m----> 1\u001b[0;31m \u001b[0;32mfrom\u001b[0m \u001b[0msklearn\u001b[0m\u001b[0;34m.\u001b[0m\u001b[0mdatasets\u001b[0m\u001b[0;34m.\u001b[0m\u001b[0msamples_generator\u001b[0m \u001b[0;32mimport\u001b[0m \u001b[0mmake_blobs\u001b[0m\u001b[0;34m\u001b[0m\u001b[0;34m\u001b[0m\u001b[0m\n\u001b[0m\u001b[1;32m      2\u001b[0m X, y = make_blobs(n_samples=20, centers=2,\n\u001b[1;32m      3\u001b[0m                   random_state=0, cluster_std=0.60)\n\u001b[1;32m      4\u001b[0m \u001b[0mplt\u001b[0m\u001b[0;34m.\u001b[0m\u001b[0mscatter\u001b[0m\u001b[0;34m(\u001b[0m\u001b[0mX\u001b[0m\u001b[0;34m[\u001b[0m\u001b[0;34m:\u001b[0m\u001b[0;34m,\u001b[0m \u001b[0;36m0\u001b[0m\u001b[0;34m]\u001b[0m\u001b[0;34m,\u001b[0m \u001b[0mX\u001b[0m\u001b[0;34m[\u001b[0m\u001b[0;34m:\u001b[0m\u001b[0;34m,\u001b[0m \u001b[0;36m1\u001b[0m\u001b[0;34m]\u001b[0m\u001b[0;34m,\u001b[0m \u001b[0mc\u001b[0m\u001b[0;34m=\u001b[0m\u001b[0my\u001b[0m\u001b[0;34m,\u001b[0m \u001b[0ms\u001b[0m\u001b[0;34m=\u001b[0m\u001b[0;36m20\u001b[0m\u001b[0;34m,\u001b[0m \u001b[0mcmap\u001b[0m\u001b[0;34m=\u001b[0m\u001b[0;34m'autumn'\u001b[0m\u001b[0;34m)\u001b[0m\u001b[0;34m;\u001b[0m\u001b[0;34m\u001b[0m\u001b[0;34m\u001b[0m\u001b[0m\n",
            "\u001b[0;31mModuleNotFoundError\u001b[0m: No module named 'sklearn.datasets.samples_generator'",
            "",
            "\u001b[0;31m---------------------------------------------------------------------------\u001b[0;32m\nNOTE: If your import is failing due to a missing package, you can\nmanually install dependencies using either !pip or !apt.\n\nTo view examples of installing some common dependencies, click the\n\"Open Examples\" button below.\n\u001b[0;31m---------------------------------------------------------------------------\u001b[0m\n"
          ],
          "errorDetails": {
            "actions": [
              {
                "action": "open_url",
                "actionText": "Open Examples",
                "url": "/notebooks/snippets/importing_libraries.ipynb"
              }
            ]
          }
        }
      ]
    },
    {
      "cell_type": "markdown",
      "metadata": {
        "id": "dFD128_6Ux7J"
      },
      "source": [
        "Dibujamos distintos vectores de soporte"
      ]
    },
    {
      "cell_type": "code",
      "metadata": {
        "colab": {
          "base_uri": "https://localhost:8080/",
          "height": 268
        },
        "id": "SVUCp0eLUzCS",
        "outputId": "841e4824-bc84-43d1-e88f-5e8ef7b2a6c4"
      },
      "source": [
        "xfit = numpy.linspace(-1, 3.5) # dominio de las líneas\n",
        "plt.scatter(X[:, 0], X[:, 1], c=y, s=50, cmap='autumn')\n",
        "plt.plot([0.5], [2], 'x', color='red', markeredgewidth=2, markersize=10)\n",
        "\n",
        "for m, b in [(1, 0.65), (0.5, 1.6), (-0.2, 2.9)]:\n",
        "    plt.plot(xfit, m * xfit + b, '-k')\n",
        "\n",
        "plt.xlim(-1, 3.5);"
      ],
      "execution_count": null,
      "outputs": [
        {
          "output_type": "display_data",
          "data": {
            "image/png": "[encoded data removed]",
            "text/plain": [
              "<Figure size 432x288 with 1 Axes>"
            ]
          },
          "metadata": {
            "tags": []
          }
        }
      ]
    },
    {
      "cell_type": "markdown",
      "metadata": {
        "id": "iNuulc7fiHUw"
      },
      "source": [
        "**Ejercicio.** Hallar un nuevo vector de soporte para la muestra del conjunto de datos."
      ]
    }
  ]
}